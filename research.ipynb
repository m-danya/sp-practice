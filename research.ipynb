{
 "cells": [
  {
   "cell_type": "code",
   "execution_count": 72,
   "id": "naked-surrey",
   "metadata": {
    "tags": []
   },
   "outputs": [],
   "source": [
    "import argparse\n",
    "import glob\n",
    "import pandas as pd\n",
    "import json\n",
    "def json_to_series(text):\n",
    "    #keys, values = zip(*[item for dct in json.loads(text) for item in dct.items()])\n",
    "    print('got ', text)\n",
    "    return text\n",
    "    #return pd.Series(values, index=keys)\n",
    "\n",
    "path = \"/media/greedisgood/HDD/ML/Rico traces/\"\n",
    "\n",
    "df = pd.DataFrame()\n",
    "dfs = []\n",
    "\n",
    "for application in glob.glob(path + \"*\")[:30]:\n",
    "    for trace in glob.glob(application + \"/trace*\"):\n",
    "        # gestures = \"trace/gestures.json\"\n",
    "        for view in glob.glob(trace + \"/view_hierarchies/*.json\"):\n",
    "            data = pd.read_json(view)\n",
    "            dfs.append(data)\n",
    "df = pd.concat(dfs, ignore_index=True) # concatenate all the data frames in the list."
   ]
  },
  {
   "cell_type": "code",
   "execution_count": 74,
   "id": "following-scott",
   "metadata": {},
   "outputs": [
    {
     "data": {
      "text/html": [
       "<div>\n",
       "<style scoped>\n",
       "    .dataframe tbody tr th:only-of-type {\n",
       "        vertical-align: middle;\n",
       "    }\n",
       "\n",
       "    .dataframe tbody tr th {\n",
       "        vertical-align: top;\n",
       "    }\n",
       "\n",
       "    .dataframe thead th {\n",
       "        text-align: right;\n",
       "    }\n",
       "</style>\n",
       "<table border=\"1\" class=\"dataframe\">\n",
       "  <thead>\n",
       "    <tr style=\"text-align: right;\">\n",
       "      <th></th>\n",
       "      <th>activity_name</th>\n",
       "      <th>activity</th>\n",
       "      <th>is_keyboard_deployed</th>\n",
       "      <th>request_id</th>\n",
       "    </tr>\n",
       "  </thead>\n",
       "  <tbody>\n",
       "    <tr>\n",
       "      <th>0</th>\n",
       "      <td>com.hearst.android.wcvb/com.hearstdd.android.a...</td>\n",
       "      <td>[]</td>\n",
       "      <td>False</td>\n",
       "      <td>102</td>\n",
       "    </tr>\n",
       "    <tr>\n",
       "      <th>1</th>\n",
       "      <td>com.hearst.android.wcvb/com.hearstdd.android.a...</td>\n",
       "      <td>[]</td>\n",
       "      <td>False</td>\n",
       "      <td>102</td>\n",
       "    </tr>\n",
       "    <tr>\n",
       "      <th>2</th>\n",
       "      <td>com.hearst.android.wcvb/com.hearstdd.android.a...</td>\n",
       "      <td>{'scrollable-horizontal': False, 'draw': True,...</td>\n",
       "      <td>False</td>\n",
       "      <td>102</td>\n",
       "    </tr>\n",
       "    <tr>\n",
       "      <th>3</th>\n",
       "      <td>com.hearst.android.wcvb/com.hearstdd.android.a...</td>\n",
       "      <td>[]</td>\n",
       "      <td>False</td>\n",
       "      <td>1073</td>\n",
       "    </tr>\n",
       "    <tr>\n",
       "      <th>4</th>\n",
       "      <td>com.hearst.android.wcvb/com.hearstdd.android.a...</td>\n",
       "      <td>[]</td>\n",
       "      <td>False</td>\n",
       "      <td>1073</td>\n",
       "    </tr>\n",
       "  </tbody>\n",
       "</table>\n",
       "</div>"
      ],
      "text/plain": [
       "                                       activity_name  \\\n",
       "0  com.hearst.android.wcvb/com.hearstdd.android.a...   \n",
       "1  com.hearst.android.wcvb/com.hearstdd.android.a...   \n",
       "2  com.hearst.android.wcvb/com.hearstdd.android.a...   \n",
       "3  com.hearst.android.wcvb/com.hearstdd.android.a...   \n",
       "4  com.hearst.android.wcvb/com.hearstdd.android.a...   \n",
       "\n",
       "                                            activity  is_keyboard_deployed  \\\n",
       "0                                                 []                 False   \n",
       "1                                                 []                 False   \n",
       "2  {'scrollable-horizontal': False, 'draw': True,...                 False   \n",
       "3                                                 []                 False   \n",
       "4                                                 []                 False   \n",
       "\n",
       "   request_id  \n",
       "0         102  \n",
       "1         102  \n",
       "2         102  \n",
       "3        1073  \n",
       "4        1073  "
      ]
     },
     "execution_count": 74,
     "metadata": {},
     "output_type": "execute_result"
    }
   ],
   "source": [
    "df.head()"
   ]
  }
 ],
 "metadata": {
  "kernelspec": {
   "display_name": "Python 3",
   "language": "python",
   "name": "python3"
  },
  "language_info": {
   "codemirror_mode": {
    "name": "ipython",
    "version": 3
   },
   "file_extension": ".py",
   "mimetype": "text/x-python",
   "name": "python",
   "nbconvert_exporter": "python",
   "pygments_lexer": "ipython3",
   "version": "3.8.5"
  }
 },
 "nbformat": 4,
 "nbformat_minor": 5
}
